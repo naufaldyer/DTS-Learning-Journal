{
 "cells": [
  {
   "cell_type": "markdown",
   "id": "8ed25b41",
   "metadata": {},
   "source": [
    "## REVIEW"
   ]
  },
  {
   "cell_type": "code",
   "execution_count": 10,
   "id": "72b165ed",
   "metadata": {},
   "outputs": [],
   "source": [
    "angka = 10#Sebelah kiri harus variable nya\n"
   ]
  },
  {
   "cell_type": "code",
   "execution_count": 11,
   "id": "3bd8deba",
   "metadata": {},
   "outputs": [
    {
     "data": {
      "text/plain": [
       "10"
      ]
     },
     "execution_count": 11,
     "metadata": {},
     "output_type": "execute_result"
    }
   ],
   "source": [
    "angka"
   ]
  },
  {
   "cell_type": "code",
   "execution_count": 8,
   "id": "92a579d4",
   "metadata": {},
   "outputs": [
    {
     "data": {
      "text/plain": [
       "False"
      ]
     },
     "execution_count": 8,
     "metadata": {},
     "output_type": "execute_result"
    }
   ],
   "source": [
    "5 == 10 # = op assigntment"
   ]
  },
  {
   "cell_type": "code",
   "execution_count": 12,
   "id": "ec871871",
   "metadata": {},
   "outputs": [
    {
     "data": {
      "text/plain": [
       "False"
      ]
     },
     "execution_count": 12,
     "metadata": {},
     "output_type": "execute_result"
    }
   ],
   "source": [
    "angka == 15"
   ]
  },
  {
   "cell_type": "code",
   "execution_count": 13,
   "id": "9918fd1e",
   "metadata": {},
   "outputs": [
    {
     "name": "stdout",
     "output_type": "stream",
     "text": [
      "15 lebih besar dari 10\n"
     ]
    }
   ],
   "source": [
    "angka = 15\n",
    "print(f\"{angka} lebih besar dari 10\")"
   ]
  },
  {
   "cell_type": "code",
   "execution_count": 23,
   "id": "4cd7758c",
   "metadata": {},
   "outputs": [
    {
     "name": "stdout",
     "output_type": "stream",
     "text": [
      "11 lebih besar dari 10\n",
      "ini masih didalam kondisi if\n",
      "ini diluar if\n"
     ]
    }
   ],
   "source": [
    "angka = 11\n",
    "if angka>10 :\n",
    "    print(f'{angka} lebih besar dari 10')\n",
    "    print('ini masih didalam kondisi if')\n",
    "print('ini diluar if')\n"
   ]
  },
  {
   "cell_type": "code",
   "execution_count": 24,
   "id": "c4fd7a12",
   "metadata": {},
   "outputs": [
    {
     "name": "stdout",
     "output_type": "stream",
     "text": [
      "ini diluar if\n"
     ]
    }
   ],
   "source": [
    "angka = 9\n",
    "if angka>10 :\n",
    "    print(f'{angka} lebih besar dari 10')\n",
    "    print('ini masih didalam kondisi if')\n",
    "print('ini diluar if')"
   ]
  },
  {
   "cell_type": "markdown",
   "id": "39aeb73d",
   "metadata": {},
   "source": [
    "## LOOPING (Perulangan)"
   ]
  },
  {
   "cell_type": "code",
   "execution_count": 26,
   "id": "b83da1d5",
   "metadata": {},
   "outputs": [
    {
     "name": "stdout",
     "output_type": "stream",
     "text": [
      "halo tomat apa kabar?\n"
     ]
    }
   ],
   "source": [
    "print('halo tomat apa kabar?')\n",
    "# ada 2 jenis looping\n",
    "# while loop : Pola sintak if,  (while <kondisi> :) = if (if <Kondisi> :) \n",
    "# for loop : untuk tipe data majemuk (list,tuple,dll)"
   ]
  },
  {
   "cell_type": "code",
   "execution_count": 27,
   "id": "16ecb64d",
   "metadata": {},
   "outputs": [
    {
     "name": "stdout",
     "output_type": "stream",
     "text": [
      "kali : 0\n",
      "Halo tomat apa kabar?\n",
      "kali : 1\n",
      "Halo tomat apa kabar?\n",
      "kali : 2\n",
      "Halo tomat apa kabar?\n",
      "kali : 3\n",
      "Halo tomat apa kabar?\n",
      "kali : 4\n",
      "Halo tomat apa kabar?\n"
     ]
    }
   ],
   "source": [
    "kali = 0\n",
    "while kali < 5:\n",
    "    print(f'kali : {kali}')\n",
    "    print('Halo tomat apa kabar?')\n",
    "    kali = kali + 1"
   ]
  },
  {
   "cell_type": "code",
   "execution_count": 28,
   "id": "e2f66602",
   "metadata": {},
   "outputs": [
    {
     "name": "stdout",
     "output_type": "stream",
     "text": [
      "kali : 1\n",
      "Halo tomat apa kabar?\n",
      "kali : 2\n",
      "Halo tomat apa kabar?\n",
      "kali : 3\n",
      "Halo tomat apa kabar?\n",
      "kali : 4\n",
      "Halo tomat apa kabar?\n",
      "kali : 5\n",
      "Halo tomat apa kabar?\n"
     ]
    }
   ],
   "source": [
    "kali = 0\n",
    "while kali < 5:\n",
    "    kali = kali + 1\n",
    "    print(f'kali : {kali}')\n",
    "    print('Halo tomat apa kabar?')\n",
    "    "
   ]
  },
  {
   "cell_type": "code",
   "execution_count": 2,
   "id": "26099316",
   "metadata": {},
   "outputs": [
    {
     "name": "stdout",
     "output_type": "stream",
     "text": [
      "masukan pesanan anda:ayam goreng\n",
      "masukan pesanan anda:bakmie ayam\n",
      "masukan pesanan anda:cukup\n"
     ]
    }
   ],
   "source": [
    "list_makanan = []\n",
    "makanan = ''\n",
    "while makanan != 'cukup':\n",
    "    if makanan != '':\n",
    "        list_makanan.append(makanan)\n",
    "    makanan = input ('masukan pesanan anda:')"
   ]
  },
  {
   "cell_type": "code",
   "execution_count": 3,
   "id": "7d402d64",
   "metadata": {},
   "outputs": [
    {
     "data": {
      "text/plain": [
       "['ayam goreng', 'bakmie ayam']"
      ]
     },
     "execution_count": 3,
     "metadata": {},
     "output_type": "execute_result"
    }
   ],
   "source": [
    "list_makanan"
   ]
  },
  {
   "cell_type": "code",
   "execution_count": 4,
   "id": "0e9a113e",
   "metadata": {},
   "outputs": [
    {
     "name": "stdout",
     "output_type": "stream",
     "text": [
      "7 x 1 = 7\n",
      "7 x 2 = 14\n",
      "7 x 3 = 21\n",
      "7 x 4 = 28\n",
      "7 x 5 = 35\n",
      "7 x 6 = 42\n",
      "7 x 7 = 49\n",
      "7 x 8 = 56\n",
      "7 x 9 = 63\n",
      "7 x 10 = 70\n"
     ]
    }
   ],
   "source": [
    "# Tabel perkalian\n",
    "i = 1\n",
    "while i <= 10:\n",
    "    print(f'{7} x {i} = {7*i}')\n",
    "    # i = i + 1\n",
    "    i += 1"
   ]
  },
  {
   "cell_type": "code",
   "execution_count": 7,
   "id": "d73d0918",
   "metadata": {},
   "outputs": [
    {
     "name": "stdout",
     "output_type": "stream",
     "text": [
      "saya jual pepaya\n",
      "saya jual pisang\n",
      "saya jual jambu\n"
     ]
    }
   ],
   "source": [
    "#for loop\n",
    "buah_buahan = ['pepaya','pisang','jambu']\n",
    "for item in buah_buahan:\n",
    "    print(f'saya jual {item}')\n",
    "    #kunci utama dari for loop adalah data majemuknya"
   ]
  },
  {
   "cell_type": "code",
   "execution_count": 8,
   "id": "c89bd95a",
   "metadata": {},
   "outputs": [
    {
     "name": "stdout",
     "output_type": "stream",
     "text": [
      "7 x 1 = 7 \n",
      "7 x 2 = 14 \n",
      "7 x 3 = 21 \n",
      "7 x 4 = 28 \n",
      "7 x 5 = 35 \n",
      "7 x 6 = 42 \n",
      "7 x 7 = 49 \n",
      "7 x 8 = 56 \n",
      "7 x 9 = 63 \n",
      "7 x 10 = 70 \n"
     ]
    }
   ],
   "source": [
    "for i in(1,2,3,4,5,6,7,8,9,10):\n",
    "    print(f'{7} x {i} = {7*i} ')"
   ]
  },
  {
   "cell_type": "code",
   "execution_count": 12,
   "id": "1a90d5da",
   "metadata": {},
   "outputs": [
    {
     "data": {
      "text/plain": [
       "[1, 2, 3, 4, 5, 6, 7, 8, 9]"
      ]
     },
     "execution_count": 12,
     "metadata": {},
     "output_type": "execute_result"
    }
   ],
   "source": [
    "#range (a,b,n) a= angka awal(inklusof), b=nilai akhir(eksklusif), n=step)\n",
    "list(range(1,10,1))\n"
   ]
  },
  {
   "cell_type": "code",
   "execution_count": 13,
   "id": "48a0add0",
   "metadata": {},
   "outputs": [
    {
     "data": {
      "text/plain": [
       "[1, 3, 5, 7, 9]"
      ]
     },
     "execution_count": 13,
     "metadata": {},
     "output_type": "execute_result"
    }
   ],
   "source": [
    "list(range(1,10,2))"
   ]
  },
  {
   "cell_type": "code",
   "execution_count": 14,
   "id": "adecf00a",
   "metadata": {},
   "outputs": [
    {
     "data": {
      "text/plain": [
       "[1, 2, 3, 4, 5, 6, 7, 8, 9, 10]"
      ]
     },
     "execution_count": 14,
     "metadata": {},
     "output_type": "execute_result"
    }
   ],
   "source": [
    "list(range(1,11))"
   ]
  },
  {
   "cell_type": "code",
   "execution_count": 15,
   "id": "58a605de",
   "metadata": {},
   "outputs": [
    {
     "name": "stdout",
     "output_type": "stream",
     "text": [
      "7 x 1 = 7 \n",
      "7 x 2 = 14 \n",
      "7 x 3 = 21 \n",
      "7 x 4 = 28 \n",
      "7 x 5 = 35 \n",
      "7 x 6 = 42 \n"
     ]
    }
   ],
   "source": [
    "# special keyword : break\n",
    "for i in range (1,11):\n",
    "    if i == 7:\n",
    "        break\n",
    "    print(f'{7} x {i} = {7*i} ')"
   ]
  },
  {
   "cell_type": "code",
   "execution_count": 18,
   "id": "46b7cded",
   "metadata": {},
   "outputs": [
    {
     "name": "stdout",
     "output_type": "stream",
     "text": [
      "7 x 0 = 0 \n",
      "7 x 1 = 7 \n",
      "7 x 2 = 14 \n",
      "7 x 3 = 21 \n",
      "7 x 4 = 28 \n",
      "7 x 5 = 35 \n",
      "7 x 6 = 42 \n"
     ]
    }
   ],
   "source": [
    "i = 0\n",
    "while i < 10:\n",
    "    if i == 7:\n",
    "        break\n",
    "    print(f'{7} x {i} = {7*i} ')\n",
    "    i += 1"
   ]
  },
  {
   "cell_type": "code",
   "execution_count": 16,
   "id": "49023016",
   "metadata": {},
   "outputs": [
    {
     "name": "stdout",
     "output_type": "stream",
     "text": [
      "7 x 1 = 7 \n",
      "7 x 2 = 14 \n",
      "7 x 3 = 21 \n",
      "7 x 4 = 28 \n",
      "7 x 5 = 35 \n",
      "7 x 6 = 42 \n",
      "7 x 8 = 56 \n",
      "7 x 9 = 63 \n",
      "7 x 10 = 70 \n"
     ]
    }
   ],
   "source": [
    "# special keyword :  continue\n",
    "for i in range (1,11):\n",
    "    if i == 7:\n",
    "        continue\n",
    "    print(f'{7} x {i} = {7*i} ')"
   ]
  },
  {
   "cell_type": "code",
   "execution_count": 17,
   "id": "f5c24076",
   "metadata": {},
   "outputs": [
    {
     "name": "stdout",
     "output_type": "stream",
     "text": [
      "7 x 1 = 7 \n",
      "7 x 2 = 14 \n",
      "7 x 3 = 21 \n",
      "7 x 4 = 28 \n",
      "7 x 5 = 35 \n",
      "7 x 6 = 42 \n",
      "7 x 8 = 56 \n",
      "7 x 9 = 63 \n",
      "7 x 10 = 70 \n"
     ]
    }
   ],
   "source": [
    "i = 0\n",
    "while i < 10:\n",
    "    i += 1\n",
    "    if i == 7:\n",
    "        continue\n",
    "    print(f'{7} x {i} = {7*i} ')"
   ]
  },
  {
   "cell_type": "code",
   "execution_count": 2,
   "id": "308a0131",
   "metadata": {},
   "outputs": [],
   "source": [
    "from random import randint"
   ]
  },
  {
   "cell_type": "code",
   "execution_count": 3,
   "id": "f8f64262",
   "metadata": {},
   "outputs": [
    {
     "data": {
      "text/plain": [
       "4"
      ]
     },
     "execution_count": 3,
     "metadata": {},
     "output_type": "execute_result"
    }
   ],
   "source": [
    "randint (1,10)"
   ]
  },
  {
   "cell_type": "code",
   "execution_count": 4,
   "id": "2ac10015",
   "metadata": {},
   "outputs": [
    {
     "name": "stdout",
     "output_type": "stream",
     "text": [
      "berapa hayo?2\n",
      "Bener!\n",
      "angka komputer adalah 2\n"
     ]
    }
   ],
   "source": [
    "angka_komputer = randint (1,10)\n",
    "angka_tebakan = 0\n",
    "while angka_tebakan != angka_komputer:\n",
    "    angka_tebakan=input('berapa hayo?')\n",
    "    angka_tebakan=int(angka_tebakan)\n",
    "    if angka_tebakan < angka_komputer:\n",
    "        print ('kurang bro!')\n",
    "    elif angka_tebakan > angka_komputer:\n",
    "        print ('lebih bro!')\n",
    "    else:\n",
    "        print('Bener!')\n",
    "        print(f'angka komputer adalah {angka_komputer}')"
   ]
  },
  {
   "cell_type": "code",
   "execution_count": 11,
   "id": "bc67f40c",
   "metadata": {},
   "outputs": [
    {
     "name": "stdout",
     "output_type": "stream",
     "text": [
      "berapa hayo?5\n",
      "kurang bro!\n",
      "berapa hayo?7\n",
      "kurang bro!\n",
      "berapa hayo?8\n",
      "kurang bro!\n",
      "anda kalah,cupu!\n"
     ]
    }
   ],
   "source": [
    "angka_komputer = randint (1,10)\n",
    "angka_tebakan = 0\n",
    "kesempatan = 3\n",
    "while angka_tebakan != angka_komputer and kesempatan > 0:\n",
    "    angka_tebakan=input('berapa hayo?')\n",
    "    angka_tebakan=int(angka_tebakan)\n",
    "    if angka_tebakan < angka_komputer:\n",
    "        print ('kurang bro!')\n",
    "        kesempatan -=1\n",
    "    elif angka_tebakan > angka_komputer:\n",
    "        print ('lebih bro!')\n",
    "        kesempatan -=1\n",
    "    else:\n",
    "        print('Bener!')\n",
    "        print(f'angka komputer adalah {angka_komputer}')\n",
    "        print('anda memiliki {kesempatan-1} kesempatan tersisa')\n",
    "    if kesempatan == 0:\n",
    "        print('anda kalah,cupu!')"
   ]
  },
  {
   "cell_type": "code",
   "execution_count": null,
   "id": "f7869fbc",
   "metadata": {},
   "outputs": [],
   "source": []
  }
 ],
 "metadata": {
  "kernelspec": {
   "display_name": "Python 3 (ipykernel)",
   "language": "python",
   "name": "python3"
  },
  "language_info": {
   "codemirror_mode": {
    "name": "ipython",
    "version": 3
   },
   "file_extension": ".py",
   "mimetype": "text/x-python",
   "name": "python",
   "nbconvert_exporter": "python",
   "pygments_lexer": "ipython3",
   "version": "3.9.7"
  }
 },
 "nbformat": 4,
 "nbformat_minor": 5
}
