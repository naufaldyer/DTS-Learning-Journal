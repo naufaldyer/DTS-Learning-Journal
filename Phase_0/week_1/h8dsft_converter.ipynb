{
 "cells": [
  {
   "cell_type": "markdown",
   "metadata": {},
   "source": [
    "## Kelvin ke Celcius"
   ]
  },
  {
   "cell_type": "code",
   "execution_count": 9,
   "metadata": {},
   "outputs": [
    {
     "name": "stdout",
     "output_type": "stream",
     "text": [
      "(-253, 15)\n"
     ]
    }
   ],
   "source": [
    "def convert(kelv):\n",
    "    cels=kelv-273,15\n",
    "    return cels\n",
    "print(convert(20))"
   ]
  },
  {
   "cell_type": "markdown",
   "metadata": {},
   "source": [
    "## Celcius ke Fahrenheit"
   ]
  },
  {
   "cell_type": "code",
   "execution_count": 11,
   "metadata": {},
   "outputs": [
    {
     "name": "stdout",
     "output_type": "stream",
     "text": [
      "(293, 15)\n"
     ]
    }
   ],
   "source": [
    "def convert(cels):\n",
    "    kelv=cels+273,15\n",
    "    return kelv\n",
    "print(convert(20))"
   ]
  },
  {
   "cell_type": "markdown",
   "metadata": {},
   "source": [
    "## Ke Fahrenheit"
   ]
  },
  {
   "cell_type": "code",
   "execution_count": 31,
   "metadata": {},
   "outputs": [
    {
     "name": "stdout",
     "output_type": "stream",
     "text": [
      "20 C dalam Fahrenheit = 68.0 F\n",
      "300 K dalam Fahrenheit = 80.33000000000004 F\n"
     ]
    }
   ],
   "source": [
    "def convert(cels,kelv):\n",
    "    fahr=(cels*9/5)+32\n",
    "    fahr2=(kelv-273.15)*9/5+32\n",
    "    return (fahr,fahr2)\n",
    "\n",
    "conv_to_f = convert(20,300) #biar variable dianggap sebagai tuple supaya bisa dimasukan ke argumen\n",
    "print(f'20 C dalam Fahrenheit = {conv_to_f[0]} F') #membuat argumen yang dimasukan adalah celcius / kelvin\n",
    "print(f'300 K dalam Fahrenheit = {conv_to_f[1]} F')"
   ]
  },
  {
   "cell_type": "markdown",
   "metadata": {},
   "source": [
    "## Dari Fahrenheit"
   ]
  },
  {
   "cell_type": "code",
   "execution_count": 19,
   "metadata": {},
   "outputs": [
    {
     "name": "stdout",
     "output_type": "stream",
     "text": [
      "68 F dalam Celcius = 20.0 C\n"
     ]
    }
   ],
   "source": [
    "def convert(fahr):\n",
    "    cels= (fahr - 32)*5/9\n",
    "    return (cels)\n",
    "print(f'68 F dalam Celcius = {convert(68)} C') #melakukan kebalikan dari yang fahr"
   ]
  },
  {
   "cell_type": "code",
   "execution_count": 32,
   "metadata": {},
   "outputs": [
    {
     "name": "stdout",
     "output_type": "stream",
     "text": [
      "80 F dalam Celcius = 299.81666666666666 C\n"
     ]
    }
   ],
   "source": [
    "def convert(fahr):\n",
    "    kelv = (fahr - 32)*5/9+273.15\n",
    "    return (kelv)\n",
    "print(f'80 F dalam Celcius = {convert(80)} C') #melakukan kebalikan dari yang fahr\n",
    "# dipisah jadi masing2 convert memiliki 1 fungsi"
   ]
  },
  {
   "cell_type": "code",
   "execution_count": null,
   "metadata": {},
   "outputs": [],
   "source": []
  }
 ],
 "metadata": {
  "interpreter": {
   "hash": "9bf2ca0f4a7adc3ce2f237ca763c1538d3ef289a4e7face3612a01cdae9f6807"
  },
  "kernelspec": {
   "display_name": "Python 3 (ipykernel)",
   "language": "python",
   "name": "python3"
  },
  "language_info": {
   "codemirror_mode": {
    "name": "ipython",
    "version": 3
   },
   "file_extension": ".py",
   "mimetype": "text/x-python",
   "name": "python",
   "nbconvert_exporter": "python",
   "pygments_lexer": "ipython3",
   "version": "3.9.7"
  }
 },
 "nbformat": 4,
 "nbformat_minor": 2
}
