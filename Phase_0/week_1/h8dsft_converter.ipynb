{
 "cells": [
  {
   "cell_type": "markdown",
   "metadata": {},
   "source": [
    "## Kelvin ke Celcius"
   ]
  },
  {
   "cell_type": "code",
   "execution_count": 9,
   "metadata": {},
   "outputs": [
    {
     "name": "stdout",
     "output_type": "stream",
     "text": [
      "(-253, 15)\n"
     ]
    }
   ],
   "source": [
    "def convert(kelv):\n",
    "    cels=kelv-273,15 #memasukan rumus perubahan suhu\n",
    "    return cels #memanggil cels supaya bisa dijalankan\n",
    "print(convert(20))"
   ]
  },
  {
   "cell_type": "markdown",
   "metadata": {},
   "source": [
    "## Celcius ke Kelvin"
   ]
  },
  {
   "cell_type": "code",
   "execution_count": 11,
   "metadata": {},
   "outputs": [
    {
     "name": "stdout",
     "output_type": "stream",
     "text": [
      "(293, 15)\n"
     ]
    }
   ],
   "source": [
    "def convert(cels):\n",
    "    kelv=cels+273,15 #memasukan rumus perubahan suhu\n",
    "    return kelv #memanggil kelv supaya bisa dijalankan\n",
    "print(convert(20))"
   ]
  },
  {
   "cell_type": "markdown",
   "metadata": {},
   "source": [
    "## Ke Fahrenheit"
   ]
  },
  {
   "cell_type": "code",
   "execution_count": 34,
   "metadata": {},
   "outputs": [
    {
     "name": "stdout",
     "output_type": "stream",
     "text": [
      "ini adalah 20 celcius= 68.0 fahrenheit\n",
      "ini adalah 300 Kelvin= 80.33000000000004 fahrenheit\n",
      "(68.0, 80.33000000000004)\n"
     ]
    }
   ],
   "source": [
    "def convert(cels,kelv):\n",
    "    fahr=(cels*9/5)+32 #memasukan rumus perubahan suhu\n",
    "    fahr2=(kelv-273.15)*9/5+32\n",
    "    print('ini adalah',cels,'celcius=',fahr,'fahrenheit') #membuat argumen untuk menjelaskan suhu apa yang sedang dikonversi ke Fahrenheit\n",
    "    print('ini adalah',kelv,'Kelvin=',fahr2,'fahrenheit')\n",
    "    return (fahr,fahr2) #memanggil fahr dan fahr2 supaya bisa dijalankan\n",
    "print(convert(20,300))"
   ]
  },
  {
   "cell_type": "markdown",
   "metadata": {},
   "source": [
    "## Dari Fahrenheit"
   ]
  },
  {
   "cell_type": "code",
   "execution_count": 35,
   "metadata": {},
   "outputs": [
    {
     "name": "stdout",
     "output_type": "stream",
     "text": [
      "Ini adalah konversi 68 fahrenheit ke Celcius: 20.0 C\n",
      "20.0\n"
     ]
    }
   ],
   "source": [
    "#mengkonversi Fahrenheit ke Celcius\n",
    "def convert(fahr):\n",
    "    cels= (fahr - 32)*5/9 #memasukan rumus perubahan suhu\n",
    "    print('Ini adalah konversi' , fahr, 'fahrenheit ke Celcius:', cels,'C') #membuat argumen untuk menjelaskan suhu apa yang sedang diconvert\n",
    "    return (cels)\n",
    "print(convert(68))\n"
   ]
  },
  {
   "cell_type": "code",
   "execution_count": 39,
   "metadata": {},
   "outputs": [
    {
     "name": "stdout",
     "output_type": "stream",
     "text": [
      "Ini adalah konversi 80 fahrenheit ke Kelvin: 299.81666666666666 K\n",
      "299.81666666666666\n"
     ]
    }
   ],
   "source": [
    "#mengkonversi Farenheit ke Kelvin\n",
    "def convert(fahr):\n",
    "    kelv = (fahr - 32)*5/9+273.15 #memasukan rumus perubahan suhu\n",
    "    print('Ini adalah konversi' , fahr, 'fahrenheit ke Kelvin:',kelv,'K')#membuat argumen untuk menjelaskan suhu apa yang sedang diconvert\n",
    "    return (kelv)\n",
    "print(convert(80))"
   ]
  },
  {
   "cell_type": "code",
   "execution_count": null,
   "metadata": {},
   "outputs": [],
   "source": []
  }
 ],
 "metadata": {
  "interpreter": {
   "hash": "9bf2ca0f4a7adc3ce2f237ca763c1538d3ef289a4e7face3612a01cdae9f6807"
  },
  "kernelspec": {
   "display_name": "Python 3 (ipykernel)",
   "language": "python",
   "name": "python3"
  },
  "language_info": {
   "codemirror_mode": {
    "name": "ipython",
    "version": 3
   },
   "file_extension": ".py",
   "mimetype": "text/x-python",
   "name": "python",
   "nbconvert_exporter": "python",
   "pygments_lexer": "ipython3",
   "version": "3.9.7"
  }
 },
 "nbformat": 4,
 "nbformat_minor": 2
}
